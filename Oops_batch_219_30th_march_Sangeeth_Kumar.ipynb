{
  "cells": [
    {
      "cell_type": "markdown",
      "metadata": {
        "id": "KM6DFkT8oGlk"
      },
      "source": [
        "\n",
        "# Object Oriented Programming"
      ]
    },
    {
      "cell_type": "markdown",
      "metadata": {
        "id": "Kl9w17F3oGln"
      },
      "source": [
        "- Every thing is an object in Python\n",
        "- Every object has set of attributes\n",
        "- Objects's behaviour is based on these attributes"
      ]
    },
    {
      "cell_type": "markdown",
      "metadata": {
        "id": "6Wzd-qPFoGlo"
      },
      "source": [
        "# Classes and Objects"
      ]
    },
    {
      "cell_type": "markdown",
      "metadata": {
        "id": "2beG2SbQoGlo"
      },
      "source": [
        "\n",
        "- Think of a version of a mobile\n",
        "- Think that the design of this mobile as a Class\n",
        "- We derive thousands of mobiles(Objects) from this Design(Class)\n",
        "- So before creating Mobile we need to create a design first.\n",
        "- Likewise, before creating an Object we need to create a Class"
      ]
    },
    {
      "cell_type": "markdown",
      "metadata": {
        "id": "JMReti2-oGlp"
      },
      "source": [
        "# Class"
      ]
    },
    {
      "cell_type": "markdown",
      "metadata": {
        "id": "OkNgTIHAoGlp"
      },
      "source": [
        "Class has two parts:\n",
        "- Attributes --> Variables\n",
        "- Behaviour --> Methods(for operations)"
      ]
    },
    {
      "cell_type": "markdown",
      "metadata": {
        "id": "ToYEt1qMoGlq"
      },
      "source": [
        "The self parameter is a reference to the current instance of the class, and is used to access variables that belongs to the class.\n",
        "\n",
        "It does not have to be named self , you can call it whatever you like, but it has to be the first parameter of any function in the class:"
      ]
    },
    {
      "cell_type": "code",
      "execution_count": null,
      "metadata": {
        "id": "YFLOKEIBvnib"
      },
      "outputs": [],
      "source": []
    },
    {
      "cell_type": "code",
      "execution_count": null,
      "metadata": {
        "id": "p-K8z8uroGlq"
      },
      "outputs": [],
      "source": [
        "class Student:\n",
        "    roll_no_list = [1,2,3,13,14]\n",
        "    college = 'Jntu'\n",
        "    \n",
        "    def __init__(self, name, roll_no, branch):\n",
        "        self.N = name\n",
        "        self.R = roll_no\n",
        "        self.B = branch\n",
        "        print(\"These are instance variables\")\n",
        "        \n",
        "    def attandence(self):\n",
        "        if self.R in Student.roll_no_list:\n",
        "            return True\n",
        "        else:\n",
        "            return False\n",
        "        \n",
        "    def scholarship(self):\n",
        "        if self.attandence() == True:\n",
        "            return \"Scholarship Granted!!!\"\n",
        "        else:\n",
        "            return \"Scholarship not Granted!!!\""
      ]
    },
    {
      "cell_type": "code",
      "execution_count": null,
      "metadata": {
        "id": "sk0Su82JoGls",
        "outputId": "26130a6c-3f62-4978-f4d5-679328c1cd2d"
      },
      "outputs": [
        {
          "name": "stdout",
          "output_type": "stream",
          "text": [
            "These are instance variables\n"
          ]
        }
      ],
      "source": [
        "obj1 = Student('Ram',15,'CSE')  #init runs in class instantiation step"
      ]
    },
    {
      "cell_type": "code",
      "execution_count": null,
      "metadata": {
        "id": "ESwUqPG1vnid",
        "outputId": "ac3769b4-095a-42f7-ac58-d374e2f39340"
      },
      "outputs": [
        {
          "data": {
            "text/plain": [
              "False"
            ]
          },
          "execution_count": 27,
          "metadata": {},
          "output_type": "execute_result"
        }
      ],
      "source": [
        "obj1.attandence()"
      ]
    },
    {
      "cell_type": "code",
      "execution_count": null,
      "metadata": {
        "id": "3G8NLFoPvnie",
        "outputId": "0a89d591-e0e6-4c62-dcd0-36268e86a278"
      },
      "outputs": [
        {
          "data": {
            "text/plain": [
              "'Scholarship not Granted!!!'"
            ]
          },
          "execution_count": 28,
          "metadata": {},
          "output_type": "execute_result"
        }
      ],
      "source": [
        "obj1.scholarship()"
      ]
    },
    {
      "cell_type": "code",
      "execution_count": null,
      "metadata": {
        "id": "nWPqzzrFvnie",
        "outputId": "66955360-e9c8-4539-d31b-6340da5e33a4"
      },
      "outputs": [
        {
          "name": "stdout",
          "output_type": "stream",
          "text": [
            "These are instance variables\n"
          ]
        }
      ],
      "source": [
        "obj2 = Student('Charan',14,'EEE')  #init runs in class instantiation step"
      ]
    },
    {
      "cell_type": "code",
      "execution_count": null,
      "metadata": {
        "id": "XP-tx_xkvnie",
        "outputId": "1733f2f7-a918-454d-d7c4-1b51cca995ad"
      },
      "outputs": [
        {
          "data": {
            "text/plain": [
              "'Charan'"
            ]
          },
          "execution_count": 8,
          "metadata": {},
          "output_type": "execute_result"
        }
      ],
      "source": [
        "obj2.name"
      ]
    },
    {
      "cell_type": "code",
      "execution_count": null,
      "metadata": {
        "id": "-3t__lhBvnif"
      },
      "outputs": [],
      "source": []
    },
    {
      "cell_type": "code",
      "execution_count": null,
      "metadata": {
        "id": "wHPriYfevnif"
      },
      "outputs": [],
      "source": [
        "class student:\n",
        "    school = \"XYZ\"  # class variables/ static variables\n",
        "    nationality = \"Indian\"\n",
        "    \n",
        "    def __init__(self, name, section):\n",
        "        ## instance variable\n",
        "        self.n = name\n",
        "        self.s = section\n",
        "        \n",
        "    def generate_unique_id(self):\n",
        "        unique_id = self.n[:2] + self.s[0] + student.school[1::] + student.nationality[:4]\n",
        "        return True\n",
        "    \n",
        "    def assign_event(self):\n",
        "        if (self.generate_unique_id() == True):\n",
        "            if (self.s == \"1st\"):\n",
        "                return \"essay writing\"\n",
        "            elif (self.s == \"2nd\"):\n",
        "                return \"Painting\"\n",
        "            elif (self.s == \"3rd\"):\n",
        "                return \"Running\"\n",
        "            elif (self.s == \"4th\"):\n",
        "                return \"Singing\"\n",
        "            else:\n",
        "                return \"Dance\"\n",
        "        else:\n",
        "            return \"Please create unique Id first !!!\"\n",
        "    \n",
        "    \n",
        "    @staticmethod\n",
        "    def check_seniority(age):\n",
        "        if age > 10:\n",
        "            return \"Senior \"\n",
        "        else:\n",
        "            return \"Junior \"\n",
        "        \n",
        "    @classmethod\n",
        "    def check_nationality(cls):\n",
        "        if (cls.nationality == \"Indian\") & (cls.school == \"XYZ\"):\n",
        "            return True\n",
        "        else:\n",
        "            return False"
      ]
    },
    {
      "cell_type": "markdown",
      "metadata": {
        "id": "uyj95Qlcvnig"
      },
      "source": [
        "__for student 1__"
      ]
    },
    {
      "cell_type": "code",
      "execution_count": null,
      "metadata": {
        "id": "D-p_D0wTvnig"
      },
      "outputs": [],
      "source": [
        "student_1 = student(\"Raju\",\"2nd\")"
      ]
    },
    {
      "cell_type": "code",
      "execution_count": null,
      "metadata": {
        "id": "plwABVAgvnig",
        "outputId": "587a839a-0363-4ac8-d3c4-2718c19f72de"
      },
      "outputs": [
        {
          "data": {
            "text/plain": [
              "True"
            ]
          },
          "execution_count": 19,
          "metadata": {},
          "output_type": "execute_result"
        }
      ],
      "source": [
        "student_1.generate_unique_id()"
      ]
    },
    {
      "cell_type": "code",
      "execution_count": null,
      "metadata": {
        "id": "rVkvK14cvnig",
        "outputId": "f3fd4c78-812d-4248-ac1f-db886734acac"
      },
      "outputs": [
        {
          "data": {
            "text/plain": [
              "'Senior '"
            ]
          },
          "execution_count": 20,
          "metadata": {},
          "output_type": "execute_result"
        }
      ],
      "source": [
        "student_1.check_seniority(12)"
      ]
    },
    {
      "cell_type": "code",
      "execution_count": null,
      "metadata": {
        "id": "jVylY-Vmvnig",
        "outputId": "d3d6f659-6cf5-47e6-cb40-14007da82381"
      },
      "outputs": [
        {
          "data": {
            "text/plain": [
              "True"
            ]
          },
          "execution_count": 21,
          "metadata": {},
          "output_type": "execute_result"
        }
      ],
      "source": [
        "student_1.check_nationality()"
      ]
    },
    {
      "cell_type": "code",
      "execution_count": null,
      "metadata": {
        "id": "FFE6xzBGvnih",
        "outputId": "d9cd1a64-1518-4375-b265-9c1398b0396e"
      },
      "outputs": [
        {
          "data": {
            "text/plain": [
              "'Painting'"
            ]
          },
          "execution_count": 22,
          "metadata": {},
          "output_type": "execute_result"
        }
      ],
      "source": [
        "student_1.assign_event()"
      ]
    },
    {
      "cell_type": "code",
      "execution_count": null,
      "metadata": {
        "id": "TcJ-CXCxvnih",
        "outputId": "8122168a-7462-4888-e2b4-b9e7b2e8675b"
      },
      "outputs": [
        {
          "data": {
            "text/plain": [
              "'Indian'"
            ]
          },
          "execution_count": 9,
          "metadata": {},
          "output_type": "execute_result"
        }
      ],
      "source": [
        "student_1.nationality"
      ]
    },
    {
      "cell_type": "code",
      "execution_count": null,
      "metadata": {
        "id": "3Ahbm57Ivnih",
        "outputId": "f7b6b8a8-3a3d-447f-fbe6-c440aec074ef"
      },
      "outputs": [
        {
          "data": {
            "text/plain": [
              "'XYZ'"
            ]
          },
          "execution_count": 10,
          "metadata": {},
          "output_type": "execute_result"
        }
      ],
      "source": [
        "student_1.school"
      ]
    },
    {
      "cell_type": "code",
      "execution_count": null,
      "metadata": {
        "id": "iudVh84evnih",
        "outputId": "84eb8e1e-82d1-437a-edf7-40fe78cc7dd5"
      },
      "outputs": [
        {
          "data": {
            "text/plain": [
              "'Raju'"
            ]
          },
          "execution_count": 11,
          "metadata": {},
          "output_type": "execute_result"
        }
      ],
      "source": [
        "student_1.n"
      ]
    },
    {
      "cell_type": "code",
      "execution_count": null,
      "metadata": {
        "id": "EmHftGDfvnii",
        "outputId": "0dd70098-a39b-408f-85b0-260706a1721d"
      },
      "outputs": [
        {
          "data": {
            "text/plain": [
              "'5th'"
            ]
          },
          "execution_count": 12,
          "metadata": {},
          "output_type": "execute_result"
        }
      ],
      "source": [
        "student_1.s"
      ]
    },
    {
      "cell_type": "markdown",
      "metadata": {
        "id": "OogxDSzXvnii"
      },
      "source": [
        "__student 2__"
      ]
    },
    {
      "cell_type": "code",
      "execution_count": null,
      "metadata": {
        "id": "edN-ECFJvnii"
      },
      "outputs": [],
      "source": [
        "student_2 = student(\"Vijay\",\"3rd\")"
      ]
    },
    {
      "cell_type": "code",
      "execution_count": null,
      "metadata": {
        "id": "CUfAbfoqvnii",
        "outputId": "8df9fb6d-2a14-4fd0-aaf3-ef8f8d731b83"
      },
      "outputs": [
        {
          "data": {
            "text/plain": [
              "'Vijay'"
            ]
          },
          "execution_count": 14,
          "metadata": {},
          "output_type": "execute_result"
        }
      ],
      "source": [
        "student_2.n"
      ]
    },
    {
      "cell_type": "code",
      "execution_count": null,
      "metadata": {
        "id": "7M8ev0vlvnii",
        "outputId": "7222d400-4c8b-47e0-b083-d6d9a7ea7fc4"
      },
      "outputs": [
        {
          "data": {
            "text/plain": [
              "'3rd'"
            ]
          },
          "execution_count": 15,
          "metadata": {},
          "output_type": "execute_result"
        }
      ],
      "source": [
        "student_2.s"
      ]
    },
    {
      "cell_type": "code",
      "execution_count": null,
      "metadata": {
        "id": "jTKhH-owvnii",
        "outputId": "7ba1c16a-1919-4f94-c103-2dd1f91c3629"
      },
      "outputs": [
        {
          "data": {
            "text/plain": [
              "'XYZ'"
            ]
          },
          "execution_count": 16,
          "metadata": {},
          "output_type": "execute_result"
        }
      ],
      "source": [
        "student_2.school"
      ]
    },
    {
      "cell_type": "markdown",
      "metadata": {
        "id": "uJYJkDEDoGlt"
      },
      "source": [
        "#### Instance variables"
      ]
    },
    {
      "cell_type": "code",
      "execution_count": null,
      "metadata": {
        "id": "i5E4xtHeoGlt"
      },
      "outputs": [],
      "source": [
        "class car:\n",
        "    \n",
        "    def __init__(self):\n",
        "        \n",
        "        ## instance variable\n",
        "        \n",
        "        self.mil = 10\n",
        "        self.company = 'BMW'"
      ]
    },
    {
      "cell_type": "code",
      "execution_count": null,
      "metadata": {
        "id": "s5L9bRj8oGlu"
      },
      "outputs": [],
      "source": [
        "c1 = car()\n",
        "\n",
        "c2 = car()"
      ]
    },
    {
      "cell_type": "code",
      "execution_count": null,
      "metadata": {
        "id": "waTAfVS9oGlu",
        "outputId": "7442871e-964d-4289-bfca-5d303c82be33"
      },
      "outputs": [
        {
          "data": {
            "text/plain": [
              "(10, 10)"
            ]
          },
          "execution_count": 10,
          "metadata": {},
          "output_type": "execute_result"
        }
      ],
      "source": [
        "c1.mil, c2.mil"
      ]
    },
    {
      "cell_type": "code",
      "execution_count": null,
      "metadata": {
        "id": "eabbvJoToGlu",
        "outputId": "ab3a767f-cc4b-4edb-d3c2-232ed83637e1"
      },
      "outputs": [
        {
          "name": "stdout",
          "output_type": "stream",
          "text": [
            "15 10\n"
          ]
        }
      ],
      "source": [
        "c1.mil = 15\n",
        "print(c1.mil, c2.mil)"
      ]
    },
    {
      "cell_type": "markdown",
      "metadata": {
        "id": "44xDkv-6oGlv"
      },
      "source": [
        "#### Class variables"
      ]
    },
    {
      "cell_type": "code",
      "execution_count": null,
      "metadata": {
        "id": "UKZTUGEaoGlv"
      },
      "outputs": [],
      "source": [
        "class car:\n",
        "    \n",
        "    wheels = 4  # class variables/ static variables\n",
        "    \n",
        "    def __init__(self):\n",
        "        \n",
        "        ## instance variable\n",
        "        self.mil = 10\n",
        "        self.company = 'BMW'"
      ]
    },
    {
      "cell_type": "code",
      "execution_count": null,
      "metadata": {
        "id": "6DvtmUYVoGlv",
        "outputId": "ee638c06-74dd-4cfe-e607-4803e13d44b7"
      },
      "outputs": [
        {
          "data": {
            "text/plain": [
              "(4, 4)"
            ]
          },
          "execution_count": 13,
          "metadata": {},
          "output_type": "execute_result"
        }
      ],
      "source": [
        "c1 = car()\n",
        "c2 = car()\n",
        "\n",
        "c1.wheels, c2.wheels"
      ]
    },
    {
      "cell_type": "code",
      "execution_count": null,
      "metadata": {
        "id": "jsOTMoXRoGlw",
        "outputId": "30405b5c-5a8e-4c65-d04a-d957b45ba990"
      },
      "outputs": [
        {
          "data": {
            "text/plain": [
              "(5, 5)"
            ]
          },
          "execution_count": 124,
          "metadata": {},
          "output_type": "execute_result"
        }
      ],
      "source": [
        "car.wheels = 5\n",
        "c1.wheels, c2.wheels"
      ]
    },
    {
      "cell_type": "markdown",
      "metadata": {
        "id": "v_xy6vunoGlw"
      },
      "source": [
        "# Methods"
      ]
    },
    {
      "cell_type": "markdown",
      "metadata": {
        "id": "ePzPQFZmoGlw"
      },
      "source": [
        "We have 3 types of methods\n",
        "- Instance Method : works with instance variables\n",
        "- Class Method : works with class variables\n",
        "- Static Method : Nothing to do with static or class variables"
      ]
    },
    {
      "cell_type": "markdown",
      "metadata": {
        "id": "cnmCpI9noGlx"
      },
      "source": [
        "While working with instance variables use self\n",
        "\n",
        "while working with class variables use cls"
      ]
    },
    {
      "cell_type": "code",
      "execution_count": null,
      "metadata": {
        "id": "Fsi3zbiFoGlx"
      },
      "outputs": [],
      "source": [
        "class student:\n",
        "    \n",
        "    college = 'jntu'\n",
        "    \n",
        "    def __init__(self, s1, s2):\n",
        "        \n",
        "        self.s1 = s1\n",
        "        self.s2 = s2\n",
        "        \n",
        "    def avg(self): # Instance Method because we are passing self and it belongs to particular object\n",
        "        #print(college)\n",
        "        \n",
        "        return (self.s1+self.s2)/2\n",
        "    \n",
        "    @classmethod\n",
        "    def get_college(cls): # Class Method because we are passing cls and it belongs to whole class\n",
        "        print(cls.college)"
      ]
    },
    {
      "cell_type": "code",
      "execution_count": null,
      "metadata": {
        "id": "l3ROzfj-oGlx",
        "outputId": "b212b332-71c6-45dd-c430-3e63e3594fc6"
      },
      "outputs": [
        {
          "name": "stdout",
          "output_type": "stream",
          "text": [
            "jntu\n"
          ]
        }
      ],
      "source": [
        "s1 = student(70, 80)\n",
        "s1.get_college()"
      ]
    },
    {
      "cell_type": "markdown",
      "metadata": {
        "id": "9DnjQ1X_oGlx"
      },
      "source": [
        "#### Instance Method"
      ]
    },
    {
      "cell_type": "code",
      "execution_count": null,
      "metadata": {
        "id": "bvE7VvaloGlx"
      },
      "outputs": [],
      "source": [
        "class student:\n",
        "    \n",
        "    college = 'jntu'  \n",
        "    \n",
        "    def __init__(self, s1, s2):\n",
        "        \n",
        "        self.s1 = s1\n",
        "        self.s2 = s2\n",
        "        \n",
        "    def avg(self): # Instance Method because we are passing self and it belongs to particular object\n",
        "        return (self.s1+self.s2)/2\n",
        "    \n",
        "    @classmethod\n",
        "    def get_college(cls): # Class Method because we are passing cls and it belongs to whole class\n",
        "        print(cls.college)\n",
        "\n",
        "    @staticmethod\n",
        "    def info():\n",
        "        print(\"This is ML course\")      "
      ]
    },
    {
      "cell_type": "code",
      "execution_count": null,
      "metadata": {
        "id": "5XYWedCVoGly"
      },
      "outputs": [],
      "source": [
        "st1 = student(87, 75)\n",
        "st2 = student(74, 93)\n"
      ]
    },
    {
      "cell_type": "code",
      "execution_count": null,
      "metadata": {
        "id": "8hYry3EyoGly",
        "outputId": "66dd8c8a-c722-4f2c-e709-17edc81200e3"
      },
      "outputs": [
        {
          "name": "stdout",
          "output_type": "stream",
          "text": [
            "This is ML course\n"
          ]
        }
      ],
      "source": [
        "st1.info()"
      ]
    },
    {
      "cell_type": "code",
      "execution_count": null,
      "metadata": {
        "id": "IG06aPiioGly",
        "outputId": "80a16a4a-befd-4cee-8866-9379e4b206e6"
      },
      "outputs": [
        {
          "name": "stdout",
          "output_type": "stream",
          "text": [
            "jntu\n"
          ]
        }
      ],
      "source": [
        "st1.get_college() #use @classmethod decorator"
      ]
    },
    {
      "cell_type": "markdown",
      "metadata": {
        "id": "VijZP5ukoGly"
      },
      "source": [
        "#### Adding new instance variable for an object"
      ]
    },
    {
      "cell_type": "code",
      "execution_count": null,
      "metadata": {
        "id": "9bYgE3XroGlz"
      },
      "outputs": [],
      "source": [
        "st1.s3 = 100"
      ]
    },
    {
      "cell_type": "code",
      "execution_count": null,
      "metadata": {
        "id": "x3Ml7A_YoGlz",
        "outputId": "f5b98a6c-5fcf-4c07-d488-b5d967dbe7cc"
      },
      "outputs": [
        {
          "data": {
            "text/plain": [
              "100"
            ]
          },
          "execution_count": 6,
          "metadata": {},
          "output_type": "execute_result"
        }
      ],
      "source": [
        "st1.s3"
      ]
    },
    {
      "cell_type": "markdown",
      "metadata": {
        "id": "w0LKs1VuoGlz"
      },
      "source": [
        "#### Adding new class variable"
      ]
    },
    {
      "cell_type": "code",
      "execution_count": null,
      "metadata": {
        "id": "tPCNb0juoGlz"
      },
      "outputs": [],
      "source": [
        "student.section = 'A'"
      ]
    },
    {
      "cell_type": "code",
      "execution_count": null,
      "metadata": {
        "id": "Byh5lnCZvnim",
        "outputId": "cf83258b-04b0-4585-c25f-34fdca903ab0"
      },
      "outputs": [
        {
          "data": {
            "text/plain": [
              "'A'"
            ]
          },
          "execution_count": 8,
          "metadata": {},
          "output_type": "execute_result"
        }
      ],
      "source": [
        "student.section"
      ]
    },
    {
      "cell_type": "markdown",
      "metadata": {
        "id": "rXmv8mwCoGl0"
      },
      "source": [
        "# Inner Class"
      ]
    },
    {
      "cell_type": "code",
      "execution_count": null,
      "metadata": {
        "id": "NkRyCUP-oGl0"
      },
      "outputs": [],
      "source": [
        "class Student:\n",
        "    def __init__(self, name, roll):       \n",
        "        self.name = name\n",
        "        self.roll = roll\n",
        "        self.lap = self.Laptop()\n",
        "        \n",
        "        \n",
        "    def show(self):\n",
        "        print(self.name, self.roll)\n",
        "        self.lap.show()\n",
        "        \n",
        "    class Laptop:   \n",
        "        def __init__(self):            \n",
        "            self.comp = 'HP'\n",
        "            self.ram = '8GB'\n",
        "            self.processor = 'i7'\n",
        "            \n",
        "        def show(self):\n",
        "            print(self.comp, self.ram)"
      ]
    },
    {
      "cell_type": "code",
      "execution_count": null,
      "metadata": {
        "id": "op7FlhxroGl0"
      },
      "outputs": [],
      "source": [
        "s1 = Student('arjun', '101')"
      ]
    },
    {
      "cell_type": "code",
      "execution_count": null,
      "metadata": {
        "id": "5FnKH2U5vnin",
        "outputId": "3efa2861-dbd4-40cb-a1b8-eb39118f75c7"
      },
      "outputs": [
        {
          "data": {
            "text/plain": [
              "'arjun'"
            ]
          },
          "execution_count": 31,
          "metadata": {},
          "output_type": "execute_result"
        }
      ],
      "source": [
        "s1.name"
      ]
    },
    {
      "cell_type": "code",
      "execution_count": null,
      "metadata": {
        "id": "kcfKHoA7vnin",
        "outputId": "9740b7ca-50f0-453a-a462-35bacf9bb573"
      },
      "outputs": [
        {
          "data": {
            "text/plain": [
              "'101'"
            ]
          },
          "execution_count": 32,
          "metadata": {},
          "output_type": "execute_result"
        }
      ],
      "source": [
        "s1.roll"
      ]
    },
    {
      "cell_type": "code",
      "execution_count": null,
      "metadata": {
        "id": "dGtKfb4Svnin",
        "outputId": "1718ff0b-1586-4658-fe7f-2a2f64b249b4"
      },
      "outputs": [
        {
          "name": "stdout",
          "output_type": "stream",
          "text": [
            "arjun 101\n",
            "HP 8GB\n"
          ]
        }
      ],
      "source": [
        "s1.show()"
      ]
    },
    {
      "cell_type": "code",
      "execution_count": null,
      "metadata": {
        "id": "0VxSKC2Rvnin",
        "outputId": "8ec4c4fe-10be-4f75-f110-fc84e7ad9a2c"
      },
      "outputs": [
        {
          "data": {
            "text/plain": [
              "'i7'"
            ]
          },
          "execution_count": 35,
          "metadata": {},
          "output_type": "execute_result"
        }
      ],
      "source": [
        "s1.lap.processor"
      ]
    },
    {
      "cell_type": "code",
      "execution_count": null,
      "metadata": {
        "id": "eP7KaL8loGl0",
        "outputId": "ed691cd5-bc23-4fc6-d028-eba7f3637bee"
      },
      "outputs": [
        {
          "data": {
            "text/plain": [
              "'HP'"
            ]
          },
          "execution_count": 34,
          "metadata": {},
          "output_type": "execute_result"
        }
      ],
      "source": [
        "s1.lap.comp"
      ]
    },
    {
      "cell_type": "code",
      "execution_count": null,
      "metadata": {
        "id": "mjsQ1Z94oGl0",
        "outputId": "4356f1dd-208a-44e6-8354-c6b9cbd16ca4"
      },
      "outputs": [
        {
          "name": "stdout",
          "output_type": "stream",
          "text": [
            "arjun 101\n",
            "HP 8GB\n"
          ]
        }
      ],
      "source": [
        "s1.show()"
      ]
    },
    {
      "cell_type": "markdown",
      "metadata": {
        "id": "8X3eiQCooGl0"
      },
      "source": [
        "create object"
      ]
    },
    {
      "cell_type": "code",
      "execution_count": null,
      "metadata": {
        "id": "VywHzdmAoGl1"
      },
      "outputs": [],
      "source": [
        "lap1 = s1.lap\n",
        "lap2 = s2.lap"
      ]
    },
    {
      "cell_type": "markdown",
      "metadata": {
        "id": "RZs1Z1PfoGl1"
      },
      "source": [
        "You can create object of inner class outside the outer class provided you use outer class name"
      ]
    },
    {
      "cell_type": "code",
      "execution_count": null,
      "metadata": {
        "id": "2R1NDBcDoGl1",
        "outputId": "6acfaadb-3296-44f1-cc86-5dd27d05c940"
      },
      "outputs": [
        {
          "data": {
            "text/plain": [
              "'HP'"
            ]
          },
          "execution_count": 39,
          "metadata": {},
          "output_type": "execute_result"
        }
      ],
      "source": [
        "lap1 = Student.Laptop()\n",
        "lap1.comp"
      ]
    },
    {
      "cell_type": "markdown",
      "metadata": {
        "id": "az5DMdG_oGl1"
      },
      "source": [
        "# Inheritance"
      ]
    },
    {
      "cell_type": "markdown",
      "metadata": {
        "id": "veScXQz-oGl1"
      },
      "source": [
        "Accessing methods from other classes"
      ]
    },
    {
      "cell_type": "markdown",
      "metadata": {
        "id": "lKyofxC2oGl1"
      },
      "source": [
        "##### Single level inheritence"
      ]
    },
    {
      "cell_type": "code",
      "execution_count": null,
      "metadata": {
        "id": "3Tj9YO_poGl1"
      },
      "outputs": [],
      "source": [
        "class A:    \n",
        "    def feature1(self):\n",
        "        print('inside feature1')        \n",
        "    def feature2(self):\n",
        "        print('inside feature2')\n",
        "        \n",
        "class B(A):    \n",
        "    def feature3(self):\n",
        "        print('inside feature3')        \n",
        "    def feature4(self):\n",
        "        print('inside feature4')"
      ]
    },
    {
      "cell_type": "code",
      "execution_count": null,
      "metadata": {
        "id": "6CUeboyTvnio",
        "outputId": "203cbce5-a5fe-4f93-e7ee-f7aa54656d52"
      },
      "outputs": [
        {
          "name": "stdout",
          "output_type": "stream",
          "text": [
            "inside feature1\n"
          ]
        }
      ],
      "source": [
        "a = A()\n",
        "a.feature1()"
      ]
    },
    {
      "cell_type": "code",
      "execution_count": null,
      "metadata": {
        "id": "yu8dZAVlvnip",
        "outputId": "bb623c73-3130-4d54-d256-9b87148120b1"
      },
      "outputs": [
        {
          "name": "stdout",
          "output_type": "stream",
          "text": [
            "inside feature2\n"
          ]
        }
      ],
      "source": [
        "a.feature2()"
      ]
    },
    {
      "cell_type": "code",
      "execution_count": null,
      "metadata": {
        "id": "1_er90ryoGl2",
        "outputId": "cc77826d-a0ef-4785-a6df-33fefc254c76"
      },
      "outputs": [
        {
          "name": "stdout",
          "output_type": "stream",
          "text": [
            "inside feature3\n"
          ]
        }
      ],
      "source": [
        "b1 = B()\n",
        "b1.feature3()"
      ]
    },
    {
      "cell_type": "code",
      "execution_count": null,
      "metadata": {
        "id": "QZLQdMcIvnip",
        "outputId": "8e2d6d11-7cde-42d7-db0d-314f4cfa7aab"
      },
      "outputs": [
        {
          "name": "stdout",
          "output_type": "stream",
          "text": [
            "inside feature4\n"
          ]
        }
      ],
      "source": [
        "b1.feature4()"
      ]
    },
    {
      "cell_type": "code",
      "execution_count": null,
      "metadata": {
        "id": "LlMflA4Pvnip",
        "outputId": "0ec5e1ab-def4-4c52-87ed-790150886d2c"
      },
      "outputs": [
        {
          "name": "stdout",
          "output_type": "stream",
          "text": [
            "inside feature1\n"
          ]
        }
      ],
      "source": [
        "b1.feature1()"
      ]
    },
    {
      "cell_type": "markdown",
      "metadata": {
        "id": "6A-QZyDaoGl2"
      },
      "source": [
        "##### Multi level inheritence"
      ]
    },
    {
      "cell_type": "code",
      "execution_count": null,
      "metadata": {
        "id": "EtUveDbdoGl2"
      },
      "outputs": [],
      "source": [
        "class A:    \n",
        "    def feature1(self):\n",
        "        print('inside feature1')        \n",
        "    def feature2(self):\n",
        "        print('inside feature2')\n",
        "        \n",
        "class B(A):    \n",
        "    def feature3(self):\n",
        "        print('inside feature3')        \n",
        "    def feature4(self):\n",
        "        print('inside feature4')\n",
        "        \n",
        "class C(B):    \n",
        "    def feature5(self):\n",
        "        print('inside feature5')"
      ]
    },
    {
      "cell_type": "code",
      "execution_count": null,
      "metadata": {
        "id": "8AD0Hy7toGl2",
        "outputId": "896fbe19-2188-4de5-a603-c37b5d23d207"
      },
      "outputs": [
        {
          "name": "stdout",
          "output_type": "stream",
          "text": [
            "inside feature1\n"
          ]
        }
      ],
      "source": [
        "c1 = C()\n",
        "c1.feature1()"
      ]
    },
    {
      "cell_type": "markdown",
      "metadata": {
        "id": "8OgfCrpPoGl2"
      },
      "source": [
        "##### Multiple Inheritance"
      ]
    },
    {
      "cell_type": "code",
      "execution_count": null,
      "metadata": {
        "id": "v0CEMci_oGl2"
      },
      "outputs": [],
      "source": [
        "class A:\n",
        "    def feature1(self):\n",
        "        print('inside feature1')        \n",
        "    def feature2(self):\n",
        "        print('inside feature2')\n",
        "        \n",
        "class B:    \n",
        "    def feature3(self):\n",
        "        print('inside feature3')       \n",
        "    def feature4(self):\n",
        "        print('inside feature4')\n",
        "        \n",
        "class C(A,B):    \n",
        "    def feature5(self):\n",
        "        print('inside feature5')"
      ]
    },
    {
      "cell_type": "code",
      "execution_count": null,
      "metadata": {
        "id": "bRMI7Cr0oGl2"
      },
      "outputs": [],
      "source": [
        "c1 = C()"
      ]
    },
    {
      "cell_type": "code",
      "execution_count": null,
      "metadata": {
        "id": "QHzHVCCloGl3",
        "outputId": "b4d4fa16-0130-4ec7-aaaf-58af58b8b236"
      },
      "outputs": [
        {
          "name": "stdout",
          "output_type": "stream",
          "text": [
            "inside feature1\n"
          ]
        }
      ],
      "source": [
        "c1.feature1()"
      ]
    },
    {
      "cell_type": "code",
      "execution_count": null,
      "metadata": {
        "id": "1o8hNYxQoGl3",
        "outputId": "320185af-d48e-4217-b3d9-199051767746"
      },
      "outputs": [
        {
          "name": "stdout",
          "output_type": "stream",
          "text": [
            "Inside init A\n"
          ]
        }
      ],
      "source": [
        "b1 = B()"
      ]
    },
    {
      "cell_type": "code",
      "execution_count": null,
      "metadata": {
        "id": "YmVn4kb-vniq"
      },
      "outputs": [],
      "source": [
        "class Person:\n",
        "    def getPerson(self,name,age):\n",
        "        self.name = name\n",
        "        self.age = age\n",
        "        \n",
        "    def printPerson(self):\n",
        "        print(\"Name = \",self.name)\n",
        "        print(\"Age = \",self.age)\n",
        "        \n",
        "class Student(Person):\n",
        "    def getStudent(self,name,age,course,fees):\n",
        "        super().getPerson(name,age)\n",
        "        self.course = course\n",
        "        self.fees = fees\n",
        "        \n",
        "    def printStudent(self):\n",
        "        Person.printPerson(self)\n",
        "        print(\"Course = \",self.course)\n",
        "        print(\"Fees =\",self.fees)\n",
        "\n",
        "s = Student()\n",
        "s.getStudent(\"Pradeep\",37,\"Data Science\",60000.00)\n",
        "s.printStudent()"
      ]
    },
    {
      "cell_type": "code",
      "execution_count": null,
      "metadata": {
        "id": "9fvTClqfvnir"
      },
      "outputs": [],
      "source": []
    },
    {
      "cell_type": "markdown",
      "metadata": {
        "id": "Y_84FtUjoGl4"
      },
      "source": [
        "### Accessing class variables and class methods"
      ]
    },
    {
      "cell_type": "code",
      "execution_count": null,
      "metadata": {
        "id": "TBtlTlqooGl4"
      },
      "outputs": [],
      "source": [
        "class A:\n",
        "    \n",
        "    clsvar = 'class variable'\n",
        "    \n",
        "    def __init__(self):\n",
        "        print('Inside init A')\n",
        "    \n",
        "    def feature1(self):\n",
        "        print('inside feature1')\n",
        "        \n",
        "    def feature2(self):\n",
        "        print('inside feature2')\n",
        "        \n",
        "    @classmethod   \n",
        "    def feature4(cls):\n",
        "        print('inside class method', cls.clsvar)\n",
        "        \n",
        "class B(A):\n",
        "    \n",
        "    def __init__(self):\n",
        "        #super().__init__()\n",
        "        print('Inside init B')\n",
        "        \n",
        "    def feature2(self):\n",
        "        print('B feature 2')\n",
        "        #super().feature2()\n",
        "    \n",
        "    def feature3(self):\n",
        "        print('inside feature3')\n",
        "        "
      ]
    },
    {
      "cell_type": "code",
      "execution_count": null,
      "metadata": {
        "id": "1yksCbKwoGl4",
        "outputId": "74cbee83-a935-45da-fed6-70c4b73dc741"
      },
      "outputs": [
        {
          "name": "stdout",
          "output_type": "stream",
          "text": [
            "Inside init B\n"
          ]
        }
      ],
      "source": [
        "b = B()"
      ]
    },
    {
      "cell_type": "code",
      "execution_count": null,
      "metadata": {
        "id": "WLM5R7KWoGl4",
        "outputId": "88eaf1a1-9248-416a-95ee-7be135da79be"
      },
      "outputs": [
        {
          "data": {
            "text/plain": [
              "'class variable'"
            ]
          },
          "execution_count": 32,
          "metadata": {},
          "output_type": "execute_result"
        }
      ],
      "source": [
        "b.clsvar"
      ]
    },
    {
      "cell_type": "code",
      "execution_count": null,
      "metadata": {
        "id": "C64D_k96oGl4",
        "outputId": "51724400-9f0a-4249-dae2-5b43cb72a49a"
      },
      "outputs": [
        {
          "name": "stdout",
          "output_type": "stream",
          "text": [
            "inside class method class variable\n"
          ]
        }
      ],
      "source": [
        "b.feature4()"
      ]
    },
    {
      "cell_type": "code",
      "execution_count": null,
      "metadata": {
        "id": "CzIXznT5vnis"
      },
      "outputs": [],
      "source": [
        "class pulsar:\n",
        "    def get_mileage(self):\n",
        "        print('Pulsar mileage')\n",
        "    def get_speed(self):\n",
        "        print(\"Pulsar speed\")\n",
        "        \n",
        "class KTM:\n",
        "    def get_mileage(self):\n",
        "        print('KTM mileage')\n",
        "    def get_speed(self):\n",
        "        print(\"KTM speed\")\n"
      ]
    },
    {
      "cell_type": "code",
      "execution_count": null,
      "metadata": {
        "id": "9nuAMRNtvnit"
      },
      "outputs": [],
      "source": [
        "P = pulsar()\n",
        "K = KTM()"
      ]
    },
    {
      "cell_type": "code",
      "execution_count": null,
      "metadata": {
        "id": "7ffCosx0vnit",
        "outputId": "3d2f56d6-99a8-490a-d701-397568b3ab14"
      },
      "outputs": [
        {
          "name": "stdout",
          "output_type": "stream",
          "text": [
            "Pulsar mileage\n",
            "Pulsar speed\n",
            "**********************\n",
            "KTM mileage\n",
            "KTM speed\n",
            "**********************\n"
          ]
        }
      ],
      "source": [
        "for bike in (P,K):\n",
        "    bike.get_mileage()\n",
        "    bike.get_speed()\n",
        "    print(\"*\"*22)"
      ]
    },
    {
      "cell_type": "code",
      "execution_count": null,
      "metadata": {
        "id": "EUT5wd4svnit"
      },
      "outputs": [],
      "source": []
    },
    {
      "cell_type": "markdown",
      "metadata": {
        "id": "1Kt-pWEdoGl6"
      },
      "source": [
        "# Encapsulation"
      ]
    },
    {
      "cell_type": "markdown",
      "metadata": {
        "id": "YTkkqnvboGl6"
      },
      "source": [
        "Wrapping up data under single unit. You can think it as a protecttive shield that prevents data from being accesed by code outside this shield\n",
        "\n",
        "Advantages:\n",
        "\n",
        "- Data hiding\n",
        "- Flexibility\n",
        "- Reusability"
      ]
    },
    {
      "cell_type": "code",
      "execution_count": null,
      "metadata": {
        "id": "Y1Mu7m3xoGl7"
      },
      "outputs": [],
      "source": [
        "class Car:    \n",
        "    def __init__(self, speed, color):\n",
        "        self.__speed = speed\n",
        "        self._color = color"
      ]
    },
    {
      "cell_type": "code",
      "execution_count": null,
      "metadata": {
        "id": "KQnkPwqDoGl7"
      },
      "outputs": [],
      "source": [
        "class Car1(Car) :\n",
        "    def __init__(self, speed, color):\n",
        "        super().__init__(speed, color)\n",
        "    def get_peed(self):\n",
        "        return self.__speed\n",
        "    def get_peed1(self):\n",
        "        return self._Car_speed\n"
      ]
    },
    {
      "cell_type": "code",
      "execution_count": null,
      "metadata": {
        "id": "XQpe8NMxoGl7"
      },
      "outputs": [],
      "source": [
        "c = Car1(100, 'black')"
      ]
    },
    {
      "cell_type": "code",
      "execution_count": null,
      "metadata": {
        "id": "n0lLuocXoGl7",
        "outputId": "0602e10c-2e1f-4ab9-9cfe-bd3b10b8c016"
      },
      "outputs": [
        {
          "ename": "AttributeError",
          "evalue": "'Car1' object has no attribute '_Car_speed'",
          "output_type": "error",
          "traceback": [
            "\u001b[1;31m---------------------------------------------------------------------------\u001b[0m",
            "\u001b[1;31mAttributeError\u001b[0m                            Traceback (most recent call last)",
            "\u001b[1;32m<ipython-input-32-3ee44098697d>\u001b[0m in \u001b[0;36m<module>\u001b[1;34m\u001b[0m\n\u001b[1;32m----> 1\u001b[1;33m \u001b[0mc\u001b[0m\u001b[1;33m.\u001b[0m\u001b[0mget_peed1\u001b[0m\u001b[1;33m(\u001b[0m\u001b[1;33m)\u001b[0m\u001b[1;33m\u001b[0m\u001b[1;33m\u001b[0m\u001b[0m\n\u001b[0m",
            "\u001b[1;32m<ipython-input-30-47105b089f28>\u001b[0m in \u001b[0;36mget_peed1\u001b[1;34m(self)\u001b[0m\n\u001b[0;32m      5\u001b[0m         \u001b[1;32mreturn\u001b[0m \u001b[0mself\u001b[0m\u001b[1;33m.\u001b[0m\u001b[0m__speed\u001b[0m\u001b[1;33m\u001b[0m\u001b[1;33m\u001b[0m\u001b[0m\n\u001b[0;32m      6\u001b[0m     \u001b[1;32mdef\u001b[0m \u001b[0mget_peed1\u001b[0m\u001b[1;33m(\u001b[0m\u001b[0mself\u001b[0m\u001b[1;33m)\u001b[0m\u001b[1;33m:\u001b[0m\u001b[1;33m\u001b[0m\u001b[1;33m\u001b[0m\u001b[0m\n\u001b[1;32m----> 7\u001b[1;33m         \u001b[1;32mreturn\u001b[0m \u001b[0mself\u001b[0m\u001b[1;33m.\u001b[0m\u001b[0m_Car_speed\u001b[0m\u001b[1;33m\u001b[0m\u001b[1;33m\u001b[0m\u001b[0m\n\u001b[0m",
            "\u001b[1;31mAttributeError\u001b[0m: 'Car1' object has no attribute '_Car_speed'"
          ]
        }
      ],
      "source": [
        "c.get_peed1()"
      ]
    },
    {
      "cell_type": "code",
      "execution_count": null,
      "metadata": {
        "id": "Y-nmpRHLoGl7",
        "outputId": "d8f19e6a-76ee-4315-88b8-31264e0f5d12"
      },
      "outputs": [
        {
          "data": {
            "text/plain": [
              "100"
            ]
          },
          "execution_count": 33,
          "metadata": {},
          "output_type": "execute_result"
        }
      ],
      "source": [
        "c._Car__speed"
      ]
    },
    {
      "cell_type": "code",
      "execution_count": null,
      "metadata": {
        "id": "pdhXAeC7oGl7",
        "outputId": "a0411b2d-b23e-4fda-b6c0-cb89f02a4a6b"
      },
      "outputs": [
        {
          "ename": "AttributeError",
          "evalue": "'Car1' object has no attribute 'get_speed'",
          "output_type": "error",
          "traceback": [
            "\u001b[1;31m---------------------------------------------------------------------------\u001b[0m",
            "\u001b[1;31mAttributeError\u001b[0m                            Traceback (most recent call last)",
            "\u001b[1;32m<ipython-input-34-dc126c58673f>\u001b[0m in \u001b[0;36m<module>\u001b[1;34m\u001b[0m\n\u001b[1;32m----> 1\u001b[1;33m \u001b[0mc\u001b[0m\u001b[1;33m.\u001b[0m\u001b[0mget_speed\u001b[0m\u001b[1;33m(\u001b[0m\u001b[1;33m)\u001b[0m\u001b[1;33m\u001b[0m\u001b[1;33m\u001b[0m\u001b[0m\n\u001b[0m",
            "\u001b[1;31mAttributeError\u001b[0m: 'Car1' object has no attribute 'get_speed'"
          ]
        }
      ],
      "source": [
        "c.get_speed()"
      ]
    },
    {
      "cell_type": "markdown",
      "metadata": {
        "id": "5cgscO6LoGl9"
      },
      "source": [
        "# Encapsulation"
      ]
    },
    {
      "cell_type": "code",
      "execution_count": null,
      "metadata": {
        "id": "FwH0EzMToGl9"
      },
      "outputs": [],
      "source": [
        "class Car:  \n",
        "    \n",
        "    def __init__(self, name, mil):\n",
        "        \n",
        "        self.__name = name\n",
        "        self.__mil = mil\n",
        "        \n",
        "    def get_name(self):\n",
        "        return self.__name\n",
        "    \n",
        "    def set_name(self, new_name):\n",
        "        self.__name = new_name"
      ]
    },
    {
      "cell_type": "code",
      "execution_count": null,
      "metadata": {
        "id": "4rZ8VLDMoGl9"
      },
      "outputs": [],
      "source": [
        "car1 = Car('BMW', 12)"
      ]
    },
    {
      "cell_type": "code",
      "execution_count": null,
      "metadata": {
        "id": "RQ-8zlb0oGl9",
        "outputId": "dcf0dc72-46ad-48af-e5ad-84722f06f3f9"
      },
      "outputs": [
        {
          "data": {
            "text/plain": [
              "'BMW'"
            ]
          },
          "execution_count": 37,
          "metadata": {},
          "output_type": "execute_result"
        }
      ],
      "source": [
        "car1.get_name()"
      ]
    },
    {
      "cell_type": "code",
      "execution_count": null,
      "metadata": {
        "id": "FTMWSTVhoGl9"
      },
      "outputs": [],
      "source": [
        "car1.set_name('Audi')"
      ]
    },
    {
      "cell_type": "code",
      "execution_count": null,
      "metadata": {
        "id": "JpCq2HbNoGl9",
        "outputId": "245f0947-26ef-45d1-f445-0ff1e99242ad"
      },
      "outputs": [
        {
          "data": {
            "text/plain": [
              "'Audi'"
            ]
          },
          "execution_count": 39,
          "metadata": {},
          "output_type": "execute_result"
        }
      ],
      "source": [
        "car1.get_name()"
      ]
    },
    {
      "cell_type": "markdown",
      "metadata": {
        "id": "k1NRSkyOoGl-"
      },
      "source": [
        "## Polymorphism"
      ]
    },
    {
      "cell_type": "code",
      "execution_count": null,
      "metadata": {
        "id": "l06_NxexoGl-"
      },
      "outputs": [],
      "source": [
        "class Parrot:\n",
        "    def fly(self):\n",
        "        print(\"Parrot can fly\")\n",
        "    def swim(self):\n",
        "        print(\"Parrot can't swim\")\n",
        "\n",
        "class Penguin:\n",
        "    def fly(self):\n",
        "        print(\"Penguin can't fly\")    \n",
        "    def swim(self):\n",
        "        print(\"Penguin can swim\")\n",
        "\n",
        "def flying_test(bird):\n",
        "    bird.fly()\n",
        "                                  \n",
        "        \n",
        "blu = Parrot()        \n",
        "peggy = Penguin()\n",
        "                                 \n",
        "    \n",
        "#flying_test(blu)     \n",
        "flying_test(blu)"
      ]
    },
    {
      "cell_type": "code",
      "execution_count": null,
      "metadata": {
        "id": "I73A-4JHoGl-"
      },
      "outputs": [],
      "source": []
    },
    {
      "cell_type": "code",
      "execution_count": null,
      "metadata": {
        "id": "b5NgJrmToGl-"
      },
      "outputs": [],
      "source": []
    }
  ],
  "metadata": {
    "colab": {
      "provenance": []
    },
    "kernelspec": {
      "display_name": "Python 3",
      "language": "python",
      "name": "python3"
    },
    "language_info": {
      "codemirror_mode": {
        "name": "ipython",
        "version": 3
      },
      "file_extension": ".py",
      "mimetype": "text/x-python",
      "name": "python",
      "nbconvert_exporter": "python",
      "pygments_lexer": "ipython3",
      "version": "3.8.5"
    }
  },
  "nbformat": 4,
  "nbformat_minor": 0
}