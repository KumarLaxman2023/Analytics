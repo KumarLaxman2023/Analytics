{
  "cells": [
    {
      "cell_type": "markdown",
      "metadata": {
        "id": "LWejLsX8ePkW"
      },
      "source": [
        "# Today's Agenda\n",
        "> ### What are different Operators Available in Python?\n",
        "> ### What is Conditional Statement?\n",
        "> ### What are the conditional statements available in Python?\n",
        "> ### How to use Operators in Conditional Statement?"
      ]
    },
    {
      "cell_type": "markdown",
      "metadata": {
        "id": "PKZ_LevSePkp"
      },
      "source": [
        "## What is operator?\n",
        "- Operators are used to perform operations on variables and values."
      ]
    },
    {
      "cell_type": "code",
      "execution_count": null,
      "metadata": {
        "id": "jGV7q5eoePks",
        "outputId": "9f727dc8-ea54-4331-e6e8-6220f1026329"
      },
      "outputs": [
        {
          "name": "stdout",
          "output_type": "stream",
          "text": [
            "30\n"
          ]
        }
      ],
      "source": [
        "# we use the + operator to add together two values\n",
        "print(10+20)"
      ]
    },
    {
      "cell_type": "markdown",
      "metadata": {
        "id": "gVT4fPqoePk0"
      },
      "source": [
        "## Types of Operators\n",
        "\n",
        "Python divides the operators in the following groups:\n",
        "\n",
        "- Arithmetic operators\n",
        "- Assignment operators\n",
        "- Comparison operators\n",
        "- Logical operators\n",
        "- Identity operators\n",
        "- Membership operators\n",
        "- Bitwise operators"
      ]
    },
    {
      "cell_type": "markdown",
      "metadata": {
        "id": "2WuHuoCRePk3"
      },
      "source": [
        "## Arithmetic Operators\n",
        "- #   +, - , /, %, *\n"
      ]
    },
    {
      "cell_type": "code",
      "execution_count": null,
      "metadata": {
        "id": "NqcfPUIcePk5",
        "outputId": "54116a67-bf4d-47c4-86c4-8219805572af"
      },
      "outputs": [
        {
          "name": "stdout",
          "output_type": "stream",
          "text": [
            "9\n"
          ]
        }
      ],
      "source": [
        "print(5+4)"
      ]
    },
    {
      "cell_type": "code",
      "execution_count": null,
      "metadata": {
        "id": "Y_eIpbZPePk7",
        "outputId": "77358b3a-e344-4bb9-cfcf-46ca0ae1954d"
      },
      "outputs": [
        {
          "name": "stdout",
          "output_type": "stream",
          "text": [
            "3\n"
          ]
        }
      ],
      "source": [
        "print(9-6)"
      ]
    },
    {
      "cell_type": "code",
      "execution_count": null,
      "metadata": {
        "id": "Jrr65PdeePk-",
        "outputId": "4c5cb1be-a24a-47b7-ab94-0d52bd259871"
      },
      "outputs": [
        {
          "name": "stdout",
          "output_type": "stream",
          "text": [
            "ab\n"
          ]
        }
      ],
      "source": [
        "print(\"a\"+\"b\") # Concatination when it is string addition "
      ]
    },
    {
      "cell_type": "code",
      "execution_count": null,
      "metadata": {
        "id": "rLQYut3IePlA",
        "outputId": "90d66d69-647a-48a2-9c66-1d0ecfadd06c"
      },
      "outputs": [
        {
          "ename": "TypeError",
          "evalue": "can only concatenate str (not \"int\") to str",
          "output_type": "error",
          "traceback": [
            "\u001b[1;31m---------------------------------------------------------------------------\u001b[0m",
            "\u001b[1;31mTypeError\u001b[0m                                 Traceback (most recent call last)",
            "\u001b[1;32m<ipython-input-5-7c2aa6df4b6b>\u001b[0m in \u001b[0;36m<module>\u001b[1;34m\u001b[0m\n\u001b[1;32m----> 1\u001b[1;33m \u001b[0mprint\u001b[0m\u001b[1;33m(\u001b[0m\u001b[1;34m\"a\"\u001b[0m\u001b[1;33m+\u001b[0m\u001b[1;36m4\u001b[0m\u001b[1;33m)\u001b[0m\u001b[1;33m\u001b[0m\u001b[1;33m\u001b[0m\u001b[0m\n\u001b[0m",
            "\u001b[1;31mTypeError\u001b[0m: can only concatenate str (not \"int\") to str"
          ]
        }
      ],
      "source": [
        "print(\"a\"+4) # type cast will not allow between string and numeric "
      ]
    },
    {
      "cell_type": "code",
      "execution_count": null,
      "metadata": {
        "id": "vrTKzLO6ePlD",
        "outputId": "86c2e24e-53ba-44f0-e488-08daf63ab10a"
      },
      "outputs": [
        {
          "name": "stdout",
          "output_type": "stream",
          "text": [
            "a4\n"
          ]
        }
      ],
      "source": [
        "print(\"a\"+\"4\") # here \"4\" is a string pleae make a note "
      ]
    },
    {
      "cell_type": "code",
      "execution_count": null,
      "metadata": {
        "id": "6w0TMIAkePlF",
        "outputId": "74739a0d-27c5-4844-db79-a0dbf108c1a7"
      },
      "outputs": [
        {
          "name": "stdout",
          "output_type": "stream",
          "text": [
            "aaaa\n"
          ]
        }
      ],
      "source": [
        "print(\"a\" * 4)"
      ]
    },
    {
      "cell_type": "code",
      "execution_count": null,
      "metadata": {
        "id": "ZRLLJJ7vePlH",
        "outputId": "a32ea929-9dc0-43a8-ed75-8904f6fe512f"
      },
      "outputs": [
        {
          "name": "stdout",
          "output_type": "stream",
          "text": [
            "5.0\n"
          ]
        }
      ],
      "source": [
        "#for division, it will return float datatype\n",
        "print(10/2)"
      ]
    },
    {
      "cell_type": "code",
      "execution_count": null,
      "metadata": {
        "id": "zguu_ZaRePlJ",
        "outputId": "104e7cc9-9b32-4976-f5a0-ff88119d1a78"
      },
      "outputs": [
        {
          "name": "stdout",
          "output_type": "stream",
          "text": [
            "0\n"
          ]
        }
      ],
      "source": [
        "#modulo operator returns the reminder\n",
        "print(10%2)"
      ]
    },
    {
      "cell_type": "code",
      "execution_count": null,
      "metadata": {
        "id": "vnvPGBrVePlM",
        "outputId": "dd8dc21f-3874-4ba8-ca48-e9f7933b0457"
      },
      "outputs": [
        {
          "name": "stdout",
          "output_type": "stream",
          "text": [
            "5\n"
          ]
        }
      ],
      "source": [
        "#floor division   //\n",
        "\n",
        "print(10//2)  #when both the values are int, it returns integer"
      ]
    },
    {
      "cell_type": "code",
      "execution_count": null,
      "metadata": {
        "id": "cqijju2pePlO",
        "outputId": "6112597d-5a92-4fd7-f0f6-46c5977430f3"
      },
      "outputs": [
        {
          "name": "stdout",
          "output_type": "stream",
          "text": [
            "5.0\n"
          ]
        }
      ],
      "source": [
        "print(10.0//2) #if any of the value is float, then in return i will be getting float"
      ]
    },
    {
      "cell_type": "code",
      "execution_count": null,
      "metadata": {
        "id": "V9JWMe_jePlQ",
        "outputId": "f79c84be-c902-436d-8187-2188932199e5"
      },
      "outputs": [
        {
          "name": "stdout",
          "output_type": "stream",
          "text": [
            "14\n"
          ]
        }
      ],
      "source": [
        "#floor and ceil\n",
        "#floor - accepts numbers with decimal as parameter and returns integer which is smaller than itself\n",
        "#ceil - accepts numbers with decimal as parameter and returns integer which is greater than itself\n",
        "\n",
        "import math\n",
        "print(math.floor(14.2))"
      ]
    },
    {
      "cell_type": "code",
      "execution_count": null,
      "metadata": {
        "id": "8DQoA5aaePlS",
        "outputId": "d6834e78-3070-487b-f08f-08733a44114e"
      },
      "outputs": [
        {
          "name": "stdout",
          "output_type": "stream",
          "text": [
            "14\n"
          ]
        }
      ],
      "source": [
        "print(math.floor(14.6))"
      ]
    },
    {
      "cell_type": "code",
      "execution_count": null,
      "metadata": {
        "id": "sIgzTbKkePlU",
        "outputId": "fa45e171-0e64-4b28-fee8-96812cd2156a"
      },
      "outputs": [
        {
          "name": "stdout",
          "output_type": "stream",
          "text": [
            "15\n"
          ]
        }
      ],
      "source": [
        "print(math.ceil(14.6))"
      ]
    },
    {
      "cell_type": "code",
      "execution_count": null,
      "metadata": {
        "id": "J9wq-XiFePlW",
        "outputId": "7b3c8961-24cd-4672-e16b-5ef8f0087cc2"
      },
      "outputs": [
        {
          "name": "stdout",
          "output_type": "stream",
          "text": [
            "22\n"
          ]
        }
      ],
      "source": [
        "print(math.ceil(21.1))"
      ]
    },
    {
      "cell_type": "markdown",
      "metadata": {
        "id": "AF0XLrayePlY"
      },
      "source": [
        "## Comparison or Relational operators \n",
        "- >, >=, <, <="
      ]
    },
    {
      "cell_type": "code",
      "execution_count": null,
      "metadata": {
        "id": "bv8G0HKWePlZ",
        "outputId": "23d90edb-5f5d-4b76-a3a9-d5f3cb275954"
      },
      "outputs": [
        {
          "name": "stdout",
          "output_type": "stream",
          "text": [
            "False\n"
          ]
        }
      ],
      "source": [
        "print(3<2)"
      ]
    },
    {
      "cell_type": "code",
      "execution_count": null,
      "metadata": {
        "id": "hgCaQ7rMePla",
        "outputId": "dd0bf1bd-6ecd-40b9-864f-d79ffb46b2ee"
      },
      "outputs": [
        {
          "name": "stdout",
          "output_type": "stream",
          "text": [
            "True\n"
          ]
        }
      ],
      "source": [
        "print(4>=4)"
      ]
    },
    {
      "cell_type": "code",
      "execution_count": null,
      "metadata": {
        "id": "TeHdFrI6ePlc",
        "outputId": "5d2c3946-5f62-4f48-9f51-1d26c726277a"
      },
      "outputs": [
        {
          "name": "stdout",
          "output_type": "stream",
          "text": [
            "2\n"
          ]
        }
      ],
      "source": [
        "#True - 1\n",
        "#False - 0\n",
        "print(True + True)"
      ]
    },
    {
      "cell_type": "code",
      "execution_count": null,
      "metadata": {
        "id": "1r4GtrU5ePle",
        "outputId": "c931e49a-08d2-439f-de83-7734a39f0939"
      },
      "outputs": [
        {
          "name": "stdout",
          "output_type": "stream",
          "text": [
            "True\n"
          ]
        }
      ],
      "source": [
        "print(4<=6)"
      ]
    },
    {
      "cell_type": "markdown",
      "metadata": {
        "id": "v_BZGXPyePlg"
      },
      "source": [
        "### Equality  (==, !=) # to check whether given two values equal or not"
      ]
    },
    {
      "cell_type": "code",
      "execution_count": null,
      "metadata": {
        "id": "zdBjfAy5ePlh",
        "outputId": "0670785c-3e62-41fe-eeb8-60f7250f90ca"
      },
      "outputs": [
        {
          "data": {
            "text/plain": [
              "False"
            ]
          },
          "execution_count": 20,
          "metadata": {},
          "output_type": "execute_result"
        }
      ],
      "source": [
        "3 ==4"
      ]
    },
    {
      "cell_type": "code",
      "execution_count": null,
      "metadata": {
        "id": "2TD6IbfzePlj",
        "outputId": "5f550e2a-36fe-4749-eaf9-7713d86da3fa"
      },
      "outputs": [
        {
          "data": {
            "text/plain": [
              "True"
            ]
          },
          "execution_count": 21,
          "metadata": {},
          "output_type": "execute_result"
        }
      ],
      "source": [
        "3 !=4"
      ]
    },
    {
      "cell_type": "code",
      "execution_count": null,
      "metadata": {
        "id": "3tFTTa9fePlk",
        "outputId": "9a4562c3-2b9f-4f52-91d2-56c59b3fa560"
      },
      "outputs": [
        {
          "data": {
            "text/plain": [
              "True"
            ]
          },
          "execution_count": 22,
          "metadata": {},
          "output_type": "execute_result"
        }
      ],
      "source": [
        "x = 3\n",
        "y= 3\n",
        "x==y"
      ]
    },
    {
      "cell_type": "markdown",
      "metadata": {
        "id": "Ih63BOKPePlm"
      },
      "source": [
        "## Logical operators \n",
        "- (and/or/not)"
      ]
    },
    {
      "cell_type": "code",
      "execution_count": null,
      "metadata": {
        "id": "ITgJs5C0ePln",
        "outputId": "379010dd-170d-45f9-966c-b6b136aa8b6f"
      },
      "outputs": [
        {
          "name": "stdout",
          "output_type": "stream",
          "text": [
            "False\n"
          ]
        }
      ],
      "source": [
        "x = 4\n",
        "y = 10\n",
        "\n",
        "print(x>5 and y>4)"
      ]
    },
    {
      "cell_type": "code",
      "execution_count": null,
      "metadata": {
        "id": "g0jfkmjOePlo",
        "outputId": "7e924214-95ba-4e39-d9da-427aa5afe5a1"
      },
      "outputs": [
        {
          "name": "stdout",
          "output_type": "stream",
          "text": [
            "True\n"
          ]
        }
      ],
      "source": [
        "z = 3\n",
        "print(x<5 and y>4 and z>1)"
      ]
    },
    {
      "cell_type": "code",
      "execution_count": null,
      "metadata": {
        "id": "FrW8IbPrePlp",
        "outputId": "86c6d5a8-335a-445f-ddab-c18762942edd"
      },
      "outputs": [
        {
          "name": "stdout",
          "output_type": "stream",
          "text": [
            "True\n"
          ]
        }
      ],
      "source": [
        "print(x<5 or y>4 and z>1)"
      ]
    },
    {
      "cell_type": "code",
      "execution_count": null,
      "metadata": {
        "id": "-gAE_j4DePlq",
        "outputId": "98f8c737-bbc6-4f7b-f219-4c41450f15da"
      },
      "outputs": [
        {
          "name": "stdout",
          "output_type": "stream",
          "text": [
            "True\n"
          ]
        }
      ],
      "source": [
        "print(x<5 or y<4)"
      ]
    },
    {
      "cell_type": "code",
      "execution_count": null,
      "metadata": {
        "id": "Erok8nffePlr",
        "outputId": "1af4b416-05e3-4a30-d293-93b7866a95d1"
      },
      "outputs": [
        {
          "name": "stdout",
          "output_type": "stream",
          "text": [
            "True\n"
          ]
        }
      ],
      "source": [
        "print(x<5 or y>4 and z>5)"
      ]
    },
    {
      "cell_type": "code",
      "execution_count": null,
      "metadata": {
        "id": "GAqEu9jFePlr",
        "outputId": "1b2caeda-a8bd-4923-ce72-ebe106544b77"
      },
      "outputs": [
        {
          "name": "stdout",
          "output_type": "stream",
          "text": [
            "True\n"
          ]
        }
      ],
      "source": [
        "\n",
        "print(x<5 or y>4 and z>5)"
      ]
    },
    {
      "cell_type": "markdown",
      "metadata": {
        "id": "soPXMr4LePlt"
      },
      "source": [
        "## Identity Operators\n",
        "\n",
        "> Identity operators are used to compare the objects, not if they are equal, but if they are actually the same object, with the same memory location:\n",
        "\n",
        "- is\n",
        "- is not"
      ]
    },
    {
      "cell_type": "code",
      "execution_count": null,
      "metadata": {
        "id": "1b59JqQ3ePlu",
        "outputId": "22496063-09f0-438e-9223-06f54e6360e8"
      },
      "outputs": [
        {
          "data": {
            "text/plain": [
              "True"
            ]
          },
          "execution_count": 29,
          "metadata": {},
          "output_type": "execute_result"
        }
      ],
      "source": [
        "x = 4\n",
        "y = 4\n",
        "\n",
        "x == y"
      ]
    },
    {
      "cell_type": "code",
      "execution_count": null,
      "metadata": {
        "id": "NAKFNSl2ePlv",
        "outputId": "4b8fd32d-cb07-43e2-ab8f-c076a5861f81"
      },
      "outputs": [
        {
          "data": {
            "text/plain": [
              "True"
            ]
          },
          "execution_count": 30,
          "metadata": {},
          "output_type": "execute_result"
        }
      ],
      "source": [
        "x is y"
      ]
    },
    {
      "cell_type": "code",
      "execution_count": null,
      "metadata": {
        "id": "O3g3y2mKePlw"
      },
      "outputs": [],
      "source": [
        "l1 = [1,2,3]\n",
        "l2 = [1,2,3]"
      ]
    },
    {
      "cell_type": "code",
      "execution_count": null,
      "metadata": {
        "id": "qvDU9z-VePlx",
        "outputId": "6624e61a-6803-46cd-c5b8-1f27613aa045"
      },
      "outputs": [
        {
          "data": {
            "text/plain": [
              "False"
            ]
          },
          "execution_count": 32,
          "metadata": {},
          "output_type": "execute_result"
        }
      ],
      "source": [
        "l1 is l2"
      ]
    },
    {
      "cell_type": "code",
      "execution_count": null,
      "metadata": {
        "id": "1pXwvoBQePly",
        "outputId": "2c5a0e3e-3f22-45db-ca9b-428ee3032d71"
      },
      "outputs": [
        {
          "data": {
            "text/plain": [
              "True"
            ]
          },
          "execution_count": 33,
          "metadata": {},
          "output_type": "execute_result"
        }
      ],
      "source": [
        "l1[2] is l2[2]"
      ]
    },
    {
      "cell_type": "markdown",
      "metadata": {
        "id": "YERmg5NQePlz"
      },
      "source": [
        "## membership operators\n",
        "\n",
        "> Membership operators are used to test if a sequence is presented in an object:\n",
        "\n",
        "- in  \n",
        "- not in"
      ]
    },
    {
      "cell_type": "code",
      "execution_count": null,
      "metadata": {
        "id": "l5d2hpbUePl0",
        "outputId": "de5b9380-f331-41ba-bbfe-a06bc865dec5"
      },
      "outputs": [
        {
          "data": {
            "text/plain": [
              "True"
            ]
          },
          "execution_count": 34,
          "metadata": {},
          "output_type": "execute_result"
        }
      ],
      "source": [
        "a = [\"sar\", \"tom\"]\n",
        "\n",
        "\"tom\" in a"
      ]
    },
    {
      "cell_type": "code",
      "execution_count": null,
      "metadata": {
        "id": "sM9sy_GJePl1",
        "outputId": "bdd36d8d-fd74-4b82-8e64-fe8201df198b"
      },
      "outputs": [
        {
          "data": {
            "text/plain": [
              "False"
            ]
          },
          "execution_count": 35,
          "metadata": {},
          "output_type": "execute_result"
        }
      ],
      "source": [
        "\"a\" in a"
      ]
    },
    {
      "cell_type": "code",
      "execution_count": null,
      "metadata": {
        "id": "Gav6X5g8ePl3"
      },
      "outputs": [],
      "source": [
        "b = \" ny city is in india\""
      ]
    },
    {
      "cell_type": "code",
      "execution_count": null,
      "metadata": {
        "id": "azC8TmL-ePl4",
        "outputId": "d68509e6-757d-4366-d758-48143161a6ad"
      },
      "outputs": [
        {
          "data": {
            "text/plain": [
              "False"
            ]
          },
          "execution_count": 37,
          "metadata": {},
          "output_type": "execute_result"
        }
      ],
      "source": [
        "\"in\" not in b"
      ]
    },
    {
      "cell_type": "markdown",
      "metadata": {
        "id": "Csx-U_KVePl5"
      },
      "source": [
        "## Bitwise Operators\n",
        "\n",
        "\n",
        "![image.png](attachment:image.png)\n",
        "\n"
      ]
    },
    {
      "cell_type": "code",
      "execution_count": null,
      "metadata": {
        "id": "HzhzJDBMePl6"
      },
      "outputs": [],
      "source": [
        "a = 60            # 60 = 0011 1100 \n",
        "b = 13            # 13 = 0000 1101 \n",
        "c = 0 "
      ]
    },
    {
      "cell_type": "code",
      "execution_count": null,
      "metadata": {
        "id": "uR_wDUjEePl7",
        "outputId": "004f59ff-b55b-402c-ce9b-01a672c6fd05"
      },
      "outputs": [
        {
          "name": "stdout",
          "output_type": "stream",
          "text": [
            "Line 1 - Value of c is  12\n"
          ]
        }
      ],
      "source": [
        "c = a & b;        # 12 = 0000 1100\n",
        "print(\"Line 1 - Value of c is \", c)\n",
        "# returns 1 if both the bits are one else 0"
      ]
    },
    {
      "cell_type": "code",
      "execution_count": null,
      "metadata": {
        "id": "vMy7qEeiePl8",
        "outputId": "67c33fab-3f8f-46dd-c481-9fa7d36a42ca"
      },
      "outputs": [
        {
          "name": "stdout",
          "output_type": "stream",
          "text": [
            "Line 2 - Value of c is  61\n"
          ]
        }
      ],
      "source": [
        "c = a | b;        # 61 = 0011 1101 \n",
        "print (\"Line 2 - Value of c is \", c)\n",
        "# returns 1 if either of the bits are one else 0"
      ]
    },
    {
      "cell_type": "code",
      "execution_count": null,
      "metadata": {
        "id": "K90UaPWHePl-",
        "outputId": "02c884ad-1c4c-4707-8207-508626561e3d"
      },
      "outputs": [
        {
          "name": "stdout",
          "output_type": "stream",
          "text": [
            "Line 3 - Value of c is  49\n"
          ]
        }
      ],
      "source": [
        "c = a ^ b;        # 49 = 0011 0001\n",
        "print (\"Line 3 - Value of c is \", c)\n"
      ]
    },
    {
      "cell_type": "code",
      "execution_count": null,
      "metadata": {
        "id": "PGNJoe0NePl_",
        "outputId": "263054ae-c37a-4076-f61f-e10fc30e99e8"
      },
      "outputs": [
        {
          "name": "stdout",
          "output_type": "stream",
          "text": [
            "Line 4 - Value of c is  -61\n"
          ]
        }
      ],
      "source": [
        "c = ~a;           # -61 = 1100 0011\n",
        "print (\"Line 4 - Value of c is \", c)"
      ]
    },
    {
      "cell_type": "code",
      "execution_count": null,
      "metadata": {
        "id": "cHqJMSTDePmA",
        "outputId": "8697e940-91c8-4cd3-bde1-29ad5aeb9e69"
      },
      "outputs": [
        {
          "name": "stdout",
          "output_type": "stream",
          "text": [
            "Line 5 - Value of c is  240\n"
          ]
        }
      ],
      "source": [
        "c = a << 2;       # 240 = 1111 0000\n",
        "print (\"Line 5 - Value of c is \", c)"
      ]
    },
    {
      "cell_type": "code",
      "execution_count": null,
      "metadata": {
        "id": "uQS10E9hePmB",
        "outputId": "13f2f98c-d55c-4c33-dc47-b41dc0678a99"
      },
      "outputs": [
        {
          "name": "stdout",
          "output_type": "stream",
          "text": [
            "Line 6 - Value of c is  15\n"
          ]
        }
      ],
      "source": [
        "c = a >> 2;       # 15 = 0000 1111\n",
        "print (\"Line 6 - Value of c is \", c)"
      ]
    },
    {
      "cell_type": "code",
      "execution_count": null,
      "metadata": {
        "id": "6NCIi2bwePmC"
      },
      "outputs": [],
      "source": []
    },
    {
      "cell_type": "code",
      "execution_count": null,
      "metadata": {
        "id": "OTwwJUBIePmD"
      },
      "outputs": [],
      "source": []
    },
    {
      "cell_type": "code",
      "execution_count": null,
      "metadata": {
        "id": "hkzPbIlgePmD"
      },
      "outputs": [],
      "source": []
    },
    {
      "cell_type": "markdown",
      "metadata": {
        "id": "1OZBpKkZePmE"
      },
      "source": [
        "# Python Conditional Statements\n",
        "> Conditionals help us to make decisions. They excecute blocks of code based on the truthfullness of some statements. The if  elif  else keywords actually help us to write conditionals\n",
        "\n",
        "- If\n",
        "- If-else\n",
        "- Elif\n",
        "- Nested if and if-else\n",
        "- Elif ladder"
      ]
    },
    {
      "cell_type": "markdown",
      "metadata": {
        "id": "lZ67hC9EePmF"
      },
      "source": [
        "# Python Indentation\n",
        "A simple if block -\n",
        "\n",
        "    if (number < 0):\n",
        "        printf(\"You entered \", number)\n",
        "    "
      ]
    },
    {
      "cell_type": "markdown",
      "metadata": {
        "id": "zAUMardmePmG"
      },
      "source": [
        "In Python, the code blocks are defined by a set of common or consistent number of spaces. This is called as **Python Indentation.**\n",
        "\n",
        " The block scope will end at the first unindented line.\n",
        "\n",
        "The best practice is to use **Tab** key.\n",
        "\n"
      ]
    },
    {
      "cell_type": "markdown",
      "metadata": {
        "id": "Cx8Yyk41ePmI"
      },
      "source": [
        "# 1. IF\n",
        "- The if keyword is used to check for a statement and execute the subsequent block of code based on the truthfullness of the statement. if statement contains the starter condition. As such, a condition has to be always given to the if block\n"
      ]
    },
    {
      "cell_type": "markdown",
      "metadata": {
        "id": "cc7RHpDLePmJ"
      },
      "source": [
        "\n",
        "Syntax:\n",
        "\n",
        "if statement:\n",
        "    block_of_code"
      ]
    },
    {
      "cell_type": "code",
      "execution_count": null,
      "metadata": {
        "id": "m7rArpAaePmL",
        "outputId": "1df17c46-1090-408a-a375-862ddab81649"
      },
      "outputs": [
        {
          "name": "stdout",
          "output_type": "stream",
          "text": [
            "Inside the IF block\n",
            "5\n",
            "This is outside the IF block\n"
          ]
        }
      ],
      "source": [
        "i = 5 # unindented line, starting from the beggining of the code cell\n",
        "\n",
        "if(i < 10): # if block header: 'if' keyword - (condition that evaluates to a boolean value) - ends with ':'\n",
        "    print('Inside the IF block')\n",
        "    print(i)\n",
        "    \n",
        "print('This is outside the IF block')"
      ]
    },
    {
      "cell_type": "code",
      "execution_count": null,
      "metadata": {
        "id": "_GWA87CTePmS",
        "outputId": "5fad0856-ffa0-43bb-f6b5-d4dcc1564ac5"
      },
      "outputs": [
        {
          "name": "stdout",
          "output_type": "stream",
          "text": [
            "This is outside the IF block\n"
          ]
        }
      ],
      "source": [
        "i = 15 # unindented line, starting from the beggining of the code cell\n",
        "\n",
        "if(i < 10): # if block header: 'if' keyword - (condition that evaluates to a boolean value) - ends with ':'\n",
        "    print('Inside the IF block')\n",
        "    print(i)\n",
        "    \n",
        "print('This is outside the IF block')"
      ]
    },
    {
      "cell_type": "markdown",
      "metadata": {
        "id": "UICcb7H0ePmU"
      },
      "source": [
        "### Boolean values are also represented as - True as 1 and False as 0"
      ]
    },
    {
      "cell_type": "code",
      "execution_count": null,
      "metadata": {
        "id": "FUrb3IIfePmV",
        "outputId": "6438703e-f9da-4d75-f7c2-1cbfda19890f"
      },
      "outputs": [
        {
          "name": "stdout",
          "output_type": "stream",
          "text": [
            "Inside IF\n",
            "Inside IF\n",
            "Inside IF\n"
          ]
        }
      ],
      "source": [
        "if(3-2):\n",
        "    print('Inside IF')\n",
        "    \n",
        "if(5-2):\n",
        "    print('Inside IF')\n",
        "\n",
        "if(3-5):\n",
        "    print('Inside IF')"
      ]
    },
    {
      "cell_type": "code",
      "execution_count": null,
      "metadata": {
        "id": "5ocf5mn4ePmW",
        "outputId": "47d843c0-99af-4614-f286-4444edab8e5a"
      },
      "outputs": [
        {
          "name": "stdout",
          "output_type": "stream",
          "text": [
            "Outside IF\n"
          ]
        }
      ],
      "source": [
        "if(3-3):\n",
        "    print('Inside IF')\n",
        "    \n",
        "print('Outside IF')"
      ]
    },
    {
      "cell_type": "markdown",
      "metadata": {
        "id": "_Yp7r0qQePmX"
      },
      "source": [
        "### Operators in IF"
      ]
    },
    {
      "cell_type": "code",
      "execution_count": null,
      "metadata": {
        "id": "pA3KwaSbePmY",
        "outputId": "62bfb501-6f74-4b46-902d-c30e67122451"
      },
      "outputs": [
        {
          "name": "stdout",
          "output_type": "stream",
          "text": [
            "65\n"
          ]
        }
      ],
      "source": [
        "# Using Membership Test\n",
        "\n",
        "mylist1 = [25,35,65,55]\n",
        "i = 65\n",
        "\n",
        "if(i in mylist1):  #remember membership operator \n",
        "    print(i)"
      ]
    },
    {
      "cell_type": "code",
      "execution_count": null,
      "metadata": {
        "id": "YF9znR2wePma",
        "outputId": "5f7e7c89-0607-44ff-b4e5-b52ea63f6cac"
      },
      "outputs": [
        {
          "name": "stdout",
          "output_type": "stream",
          "text": [
            "Result: Pass\n"
          ]
        }
      ],
      "source": [
        "if(75 >= 35):\n",
        "    print('Result: Pass')"
      ]
    },
    {
      "cell_type": "markdown",
      "metadata": {
        "id": "cn4BHLINePmb"
      },
      "source": [
        "### Question: WAP for passing the exam if the students meets the cutoff using 'if' condition"
      ]
    },
    {
      "cell_type": "code",
      "execution_count": null,
      "metadata": {
        "id": "DqB1DNm-ePmc",
        "outputId": "c58a8f99-88fd-4332-bf73-f77c97ca3f08"
      },
      "outputs": [
        {
          "name": "stdout",
          "output_type": "stream",
          "text": [
            "Enter the Marks:45\n",
            "Result: Pass\n",
            "Enter the Marks:50\n",
            "Result: Pass\n"
          ]
        }
      ],
      "source": [
        "cutoffscore = 35\n",
        "marksscored = input('Enter the Marks:')\n",
        "\n",
        "if(int(marksscored) >= cutoffscore):\n",
        "    print('Result: Pass')\n",
        "    \n",
        "    \n",
        "cutoffscore = 35\n",
        "marksscored = int(input('Enter the Marks:'))\n",
        "\n",
        "if(marksscored >= cutoffscore):\n",
        "    print('Result: Pass')"
      ]
    },
    {
      "cell_type": "markdown",
      "metadata": {
        "id": "K5iCze5lePmd"
      },
      "source": [
        "# 2. IF-ELSE"
      ]
    },
    {
      "cell_type": "markdown",
      "metadata": {
        "id": "WVLh3XhpePmd"
      },
      "source": [
        "### using IF-ELSE"
      ]
    },
    {
      "cell_type": "code",
      "execution_count": null,
      "metadata": {
        "id": "aB8Xy5XhePme"
      },
      "outputs": [],
      "source": [
        "cutoffscore = 35\n",
        "marksscored = int(input('Enter the Marks:'))\n",
        "\n",
        "if(marksscored >= cutoffscore):\n",
        "    print('Result: Pass')\n",
        "else:\n",
        "    print('Result: Fail')"
      ]
    },
    {
      "cell_type": "markdown",
      "metadata": {
        "id": "cc1koRl2ePmf"
      },
      "source": [
        "## Check for the gien number is even or odd"
      ]
    },
    {
      "cell_type": "code",
      "execution_count": null,
      "metadata": {
        "id": "WGXmDaXpePmg",
        "outputId": "13e00ced-2a2e-4608-d2ee-f3c67a3ba9af"
      },
      "outputs": [
        {
          "name": "stdout",
          "output_type": "stream",
          "text": [
            "Enter a number: 56\n",
            "Number is even\n"
          ]
        }
      ],
      "source": [
        "\n",
        "num = int(input('Enter a number: '))\n",
        "\n",
        "if num%2 == 0:\n",
        "    print('Number is even')\n",
        "else:\n",
        "    print('Number is odd')"
      ]
    },
    {
      "cell_type": "code",
      "execution_count": null,
      "metadata": {
        "id": "N0FrY1yAePmh",
        "outputId": "10909635-0395-4d93-a335-6777c581bad0"
      },
      "outputs": [
        {
          "name": "stdout",
          "output_type": "stream",
          "text": [
            "Enter a number: 56\n",
            "Number is even\n"
          ]
        }
      ],
      "source": [
        "# Method -2:\n",
        "# write a code to check if a given number is even or not\n",
        "num = int(input('Enter a number: '))\n",
        "\n",
        "# if_block if if_condition else else_block\n",
        "print('Number is even') if num%2 == 0 else print('Number is odd')"
      ]
    },
    {
      "cell_type": "markdown",
      "metadata": {
        "id": "JWPWVo4PePmi"
      },
      "source": [
        "**Note: The short-hand notations will work only if the block of code is a single line code**"
      ]
    },
    {
      "cell_type": "markdown",
      "metadata": {
        "id": "kSZ-S3iHePmj"
      },
      "source": [
        "# 3. ELSE\n",
        "- All the cases which aren't satisfied using the if statement are collected in the else block given by the else keyword. else block is the terminal block where all the edge cases are collected. As such, no statement has to be given when we are using the else"
      ]
    },
    {
      "cell_type": "code",
      "execution_count": null,
      "metadata": {
        "id": "xi0st0X3ePmk",
        "outputId": "2cce0cc7-3240-4995-9415-942e5765a46e"
      },
      "outputs": [
        {
          "name": "stdout",
          "output_type": "stream",
          "text": [
            "Enter the Marks:90\n",
            "Result: Pass with Distinction\n"
          ]
        }
      ],
      "source": [
        "cutoffscore = 35\n",
        "distinctioncutoff = 75 \n",
        "marksscored = int(input('Enter the Marks:'))\n",
        "\n",
        "# 3 Scenarios\n",
        "# - Pass\n",
        "# - Pass with Distinction\n",
        "# - Fail\n",
        "\n",
        "\n",
        "if(marksscored < cutoffscore):\n",
        "    print('Result: Fail')\n",
        "elif(marksscored >= distinctioncutoff):\n",
        "    print('Result: Pass with Distinction')\n",
        "else:\n",
        "    print('Result: Pass')"
      ]
    },
    {
      "cell_type": "markdown",
      "metadata": {
        "id": "9YgwqY6YePml"
      },
      "source": [
        "# 4. Nested if & if-else"
      ]
    },
    {
      "cell_type": "code",
      "execution_count": null,
      "metadata": {
        "id": "G_vUnsEEePmm",
        "outputId": "eb4effe6-07c8-4d29-faf2-528472408ee6"
      },
      "outputs": [
        {
          "name": "stdout",
          "output_type": "stream",
          "text": [
            "Enter the Marks:90\n",
            "Result: Pass\n",
            "Result: Pass with Distinction\n"
          ]
        }
      ],
      "source": [
        "cutoffscore = 35\n",
        "distinctioncutoff = 75 \n",
        "marksscored = int(input('Enter the Marks:'))\n",
        "\n",
        "if(marksscored>cutoffscore):\n",
        "    print('Result: Pass')\n",
        "    if(marksscored>=distinctioncutoff):\n",
        "        print('Result: Pass with Distinction')\n",
        "        "
      ]
    },
    {
      "cell_type": "markdown",
      "metadata": {
        "id": "GiiTEGr2ePmn"
      },
      "source": [
        "### Problem on Tax Payment"
      ]
    },
    {
      "cell_type": "code",
      "execution_count": null,
      "metadata": {
        "id": "eQAQJJPNePmo",
        "outputId": "4ba9492d-2abe-4d35-8815-e87bbf05c396"
      },
      "outputs": [
        {
          "name": "stdout",
          "output_type": "stream",
          "text": [
            "Enter the taxable income:5.5\n",
            "Slab is 20% and Tax Payable is 1.1\n"
          ]
        }
      ],
      "source": [
        "taxable_income = float(input('Enter the taxable income:'))\n",
        "\n",
        "# taxable_income = taxable_income/100000\n",
        "\n",
        "# 0 - 2.5 - 0%\n",
        "# 2.5 - 5 - 5%\n",
        "# 5. - 10 - 20%\n",
        "# 10 or above - 30%\n",
        "\n",
        "if(taxable_income>=10): \n",
        "    print('Slab is{} and Tax Payable is {}'.format('30%',taxable_income*0.3))    \n",
        "else:\n",
        "    if(taxable_income<10 and taxable_income>=5):\n",
        "        print('Slab is {} and Tax Payable is {}'.format('20%',taxable_income*0.2)) \n",
        "    else:\n",
        "        if(taxable_income<5 and taxable_income>=2.5):\n",
        "            print('Slab is {} and Tax Payable is {}'.format('5%',taxable_income*0.05))\n",
        "        else:\n",
        "            print('Slab is {} and Tax Payable is {}'.format('0%',0))"
      ]
    },
    {
      "cell_type": "markdown",
      "metadata": {
        "id": "B7gxgIOlePmq"
      },
      "source": [
        "# 5. Elif Ladder\n",
        "- The `elif` keyword is used to check for those conditions which weren't done so by the previous statements. As a rule of thumb, if we're checking for n number of outcomes(n > 2), we'll be having n-2 number of elif statements"
      ]
    },
    {
      "cell_type": "code",
      "execution_count": null,
      "metadata": {
        "id": "lY97U0mZePmq",
        "outputId": "d649f1f0-6747-44e1-aa5b-5b6a8275edd6"
      },
      "outputs": [
        {
          "name": "stdout",
          "output_type": "stream",
          "text": [
            "Enter the taxable income:1.9\n",
            "Slab is 0% and Tax Payable is 0\n"
          ]
        }
      ],
      "source": [
        "taxable_income = float(input('Enter the taxable income:'))\n",
        "\n",
        "# taxable_income = taxable_income/100000\n",
        "\n",
        "# 0 - 2.5 - 0%\n",
        "# 2.5 - 5 - 5%\n",
        "# 5. - 10 - 20%\n",
        "# 10 or above - 30%\n",
        "\n",
        "if(taxable_income>=10): \n",
        "    print('Slab is {} and Tax Payable is {}'.format('30%',taxable_income*0.3)) \n",
        "elif(taxable_income<10 and taxable_income>=5):\n",
        "    print('Slab is {} and Tax Payable is {}'.format('20%',taxable_income*0.2)) \n",
        "elif(taxable_income<5 and taxable_income>=2.5):\n",
        "    print('Slab is {} and Tax Payable is {}'.format('5%',taxable_income*0.05))\n",
        "else:\n",
        "    print('Slab is {} and Tax Payable is {}'.format('0%',0))"
      ]
    },
    {
      "cell_type": "markdown",
      "metadata": {
        "id": "5xwdSCzgePms"
      },
      "source": [
        "### Write a program which will accept a word from the user and is going to check whether the word starts with a vowel or not"
      ]
    },
    {
      "cell_type": "markdown",
      "metadata": {
        "id": "gPmhAOlfePms"
      },
      "source": [
        "### Write a program which will accept a word and a number from the user. Check if the word starts with a vowel and the number is even and write appropriate conditions accordingly"
      ]
    }
  ],
  "metadata": {
    "kernelspec": {
      "display_name": "Python 3",
      "language": "python",
      "name": "python3"
    },
    "language_info": {
      "codemirror_mode": {
        "name": "ipython",
        "version": 3
      },
      "file_extension": ".py",
      "mimetype": "text/x-python",
      "name": "python",
      "nbconvert_exporter": "python",
      "pygments_lexer": "ipython3",
      "version": "3.8.5"
    },
    "colab": {
      "provenance": []
    }
  },
  "nbformat": 4,
  "nbformat_minor": 0
}